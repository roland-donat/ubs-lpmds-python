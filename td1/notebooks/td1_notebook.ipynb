{
 "cells": [
  {
   "cell_type": "markdown",
   "metadata": {},
   "source": [
    "Voilà une cellule de texte !"
   ]
  },
  {
   "cell_type": "code",
   "execution_count": 2,
   "metadata": {
    "scrolled": true
   },
   "outputs": [
    {
     "name": "stdout",
     "output_type": "stream",
     "text": [
      "ma première cellule de code\n"
     ]
    }
   ],
   "source": [
    "print(\"ma première cellule de code\")"
   ]
  },
  {
   "cell_type": "markdown",
   "metadata": {},
   "source": [
    "# Documentation en markdown\n",
    "\n",
    "## Ceci est un titre de niveau 2\n",
    "\n",
    "Il s'agit d'un texte brut qui forme un paragraphe. Ajoutez de l'emphase via **gras** et __bold__, ou *italique* et _italic_.\n",
    "\n",
    "Les paragraphes doivent être séparés par une ligne vide.\n",
    "\n",
    "Nous pouvons aussi ajouter des listes dont les items commence par des astérisques :\n",
    "* un item finit en général par un point-virgule ;\n",
    "* et on termine la liste par un point.\n",
    "\n",
    "Et pour numéroter les listes :\n",
    "1. C'est assez intuitif.\n",
    "2. Pas de point-virgule car on commence par une majuscule.\n",
    "\n",
    "[Il est possible d'inclure des hyperliens](https://www.franceculture.fr/emissions/lsd-la-serie-documentaire)\n",
    "\n",
    "Nous pouvons écrire du code en ligne en utilisant des backticks simples : `spam()` ou des blocs de code en utilisant des triples backticks:\n",
    "```\n",
    "spam()\n",
    "```"
   ]
  }
 ],
 "metadata": {
  "kernelspec": {
   "display_name": "Python 3",
   "language": "python",
   "name": "python3"
  },
  "language_info": {
   "codemirror_mode": {
    "name": "ipython",
    "version": 3
   },
   "file_extension": ".py",
   "mimetype": "text/x-python",
   "name": "python",
   "nbconvert_exporter": "python",
   "pygments_lexer": "ipython3",
   "version": "3.8.3"
  }
 },
 "nbformat": 4,
 "nbformat_minor": 4
}
